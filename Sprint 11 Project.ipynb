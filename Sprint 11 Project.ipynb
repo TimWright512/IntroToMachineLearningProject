{
 "cells": [
  {
   "cell_type": "markdown",
   "metadata": {},
   "source": [
    "<div class=\"alert alert-success\">\n",
    "<b>Reviewer's comment V2</b>\n",
    "\n",
    "The project is accepted! Good luck on the final sprint!\n",
    "\n",
    "</div>"
   ]
  },
  {
   "cell_type": "markdown",
   "metadata": {},
   "source": [
    "**Review**\n",
    "\n",
    "Hi, my name is Dmitry and I will be reviewing your project.\n",
    "  \n",
    "You can find my comments in colored markdown cells:\n",
    "  \n",
    "<div class=\"alert alert-success\">\n",
    "  If everything is done successfully.\n",
    "</div>\n",
    "  \n",
    "<div class=\"alert alert-warning\">\n",
    "  If I have some (optional) suggestions, or questions to think about, or general comments.\n",
    "</div>\n",
    "  \n",
    "<div class=\"alert alert-danger\">\n",
    "  If a section requires some corrections. Work can't be accepted with red comments.\n",
    "</div>\n",
    "  \n",
    "Please don't remove my comments, as it will make further review iterations much harder for me.\n",
    "  \n",
    "Feel free to reply to my comments or ask questions using the following template:\n",
    "  \n",
    "<div class=\"alert alert-info\">\n",
    "  For your comments and questions.\n",
    "</div>\n",
    "   \n",
    "First of all, thank you for turning in the project! You did a great job overall, there is only one small problem that needs to be fixed before the project is accepted. Let me know if you have questions!"
   ]
  },
  {
   "cell_type": "markdown",
   "metadata": {},
   "source": [
    "Mobile carrier Megaline has found out that many of their subscribers use legacy plans. They want us to develop a model that would analyze subscribers' behavior and recommend one of Megaline's newer plans: Smart or Ultra.\n",
    "\n",
    "We have access to behavior data about subscribers who have already switched to the new plans (from the project for the Statistical Data Analysis course). For this classification task, we need to develop a model that will pick the right plan. \n",
    "\n",
    "Let's develop a model with the highest possible accuracy. In this project, the threshold for accuracy is 0.75. We'll check the accuracy using the test dataset."
   ]
  },
  {
   "cell_type": "code",
   "execution_count": 1,
   "metadata": {},
   "outputs": [],
   "source": [
    "import pandas as pd\n",
    "from sklearn import set_config\n",
    "from sklearn.tree import DecisionTreeClassifier\n",
    "from sklearn.ensemble import RandomForestClassifier\n",
    "from sklearn.linear_model import LogisticRegression\n",
    "from sklearn.model_selection import train_test_split\n",
    "from sklearn.metrics import accuracy_score"
   ]
  },
  {
   "cell_type": "code",
   "execution_count": 2,
   "metadata": {},
   "outputs": [],
   "source": [
    "df = pd.read_csv('/datasets/users_behavior.csv')"
   ]
  },
  {
   "cell_type": "code",
   "execution_count": 3,
   "metadata": {},
   "outputs": [
    {
     "name": "stdout",
     "output_type": "stream",
     "text": [
      "<class 'pandas.core.frame.DataFrame'>\n",
      "RangeIndex: 3214 entries, 0 to 3213\n",
      "Data columns (total 5 columns):\n",
      " #   Column    Non-Null Count  Dtype  \n",
      "---  ------    --------------  -----  \n",
      " 0   calls     3214 non-null   float64\n",
      " 1   minutes   3214 non-null   float64\n",
      " 2   messages  3214 non-null   float64\n",
      " 3   mb_used   3214 non-null   float64\n",
      " 4   is_ultra  3214 non-null   int64  \n",
      "dtypes: float64(4), int64(1)\n",
      "memory usage: 125.7 KB\n"
     ]
    }
   ],
   "source": [
    "df.info()"
   ]
  },
  {
   "cell_type": "code",
   "execution_count": 4,
   "metadata": {},
   "outputs": [
    {
     "data": {
      "text/html": [
       "<div>\n",
       "<style scoped>\n",
       "    .dataframe tbody tr th:only-of-type {\n",
       "        vertical-align: middle;\n",
       "    }\n",
       "\n",
       "    .dataframe tbody tr th {\n",
       "        vertical-align: top;\n",
       "    }\n",
       "\n",
       "    .dataframe thead th {\n",
       "        text-align: right;\n",
       "    }\n",
       "</style>\n",
       "<table border=\"1\" class=\"dataframe\">\n",
       "  <thead>\n",
       "    <tr style=\"text-align: right;\">\n",
       "      <th></th>\n",
       "      <th>calls</th>\n",
       "      <th>minutes</th>\n",
       "      <th>messages</th>\n",
       "      <th>mb_used</th>\n",
       "      <th>is_ultra</th>\n",
       "    </tr>\n",
       "  </thead>\n",
       "  <tbody>\n",
       "    <tr>\n",
       "      <th>0</th>\n",
       "      <td>40.0</td>\n",
       "      <td>311.90</td>\n",
       "      <td>83.0</td>\n",
       "      <td>19915.42</td>\n",
       "      <td>0</td>\n",
       "    </tr>\n",
       "    <tr>\n",
       "      <th>1</th>\n",
       "      <td>85.0</td>\n",
       "      <td>516.75</td>\n",
       "      <td>56.0</td>\n",
       "      <td>22696.96</td>\n",
       "      <td>0</td>\n",
       "    </tr>\n",
       "    <tr>\n",
       "      <th>2</th>\n",
       "      <td>77.0</td>\n",
       "      <td>467.66</td>\n",
       "      <td>86.0</td>\n",
       "      <td>21060.45</td>\n",
       "      <td>0</td>\n",
       "    </tr>\n",
       "    <tr>\n",
       "      <th>3</th>\n",
       "      <td>106.0</td>\n",
       "      <td>745.53</td>\n",
       "      <td>81.0</td>\n",
       "      <td>8437.39</td>\n",
       "      <td>1</td>\n",
       "    </tr>\n",
       "    <tr>\n",
       "      <th>4</th>\n",
       "      <td>66.0</td>\n",
       "      <td>418.74</td>\n",
       "      <td>1.0</td>\n",
       "      <td>14502.75</td>\n",
       "      <td>0</td>\n",
       "    </tr>\n",
       "  </tbody>\n",
       "</table>\n",
       "</div>"
      ],
      "text/plain": [
       "   calls  minutes  messages   mb_used  is_ultra\n",
       "0   40.0   311.90      83.0  19915.42         0\n",
       "1   85.0   516.75      56.0  22696.96         0\n",
       "2   77.0   467.66      86.0  21060.45         0\n",
       "3  106.0   745.53      81.0   8437.39         1\n",
       "4   66.0   418.74       1.0  14502.75         0"
      ]
     },
     "execution_count": 4,
     "metadata": {},
     "output_type": "execute_result"
    }
   ],
   "source": [
    "df.head()"
   ]
  },
  {
   "cell_type": "code",
   "execution_count": 5,
   "metadata": {},
   "outputs": [
    {
     "data": {
      "text/plain": [
       "calls       0\n",
       "minutes     0\n",
       "messages    0\n",
       "mb_used     0\n",
       "is_ultra    0\n",
       "dtype: int64"
      ]
     },
     "execution_count": 5,
     "metadata": {},
     "output_type": "execute_result"
    }
   ],
   "source": [
    "df.isna().sum() #check for any missing fields"
   ]
  },
  {
   "cell_type": "code",
   "execution_count": 6,
   "metadata": {},
   "outputs": [
    {
     "data": {
      "text/plain": [
       "0"
      ]
     },
     "execution_count": 6,
     "metadata": {},
     "output_type": "execute_result"
    }
   ],
   "source": [
    "df.duplicated().sum() #check for duplicates"
   ]
  },
  {
   "cell_type": "markdown",
   "metadata": {},
   "source": [
    "<div class=\"alert alert-success\">\n",
    "<b>Reviewer's comment</b>\n",
    "\n",
    "The data was loaded and inspected\n",
    "\n",
    "</div>"
   ]
  },
  {
   "cell_type": "code",
   "execution_count": 7,
   "metadata": {},
   "outputs": [],
   "source": [
    "#lets create a train and validation set. This will output the df_train at 80% and df_valid at 20%\n",
    "df_train, df_valid = train_test_split(df, test_size=0.2, random_state=12345) "
   ]
  },
  {
   "cell_type": "code",
   "execution_count": 8,
   "metadata": {},
   "outputs": [],
   "source": [
    "#lets create a test set taking 25% of df_train (which is at 80%), to give df_test a total of 20% of the original dataframe.\n",
    "#which makes df_train now at 60%\n",
    "df_train, df_test = train_test_split(df_train, test_size=0.25, random_state=12345)"
   ]
  },
  {
   "cell_type": "code",
   "execution_count": 9,
   "metadata": {},
   "outputs": [],
   "source": [
    "features_train = df_train.drop(['is_ultra'], axis=1)"
   ]
  },
  {
   "cell_type": "code",
   "execution_count": 10,
   "metadata": {},
   "outputs": [],
   "source": [
    "target_train = df_train['is_ultra']"
   ]
  },
  {
   "cell_type": "code",
   "execution_count": 11,
   "metadata": {},
   "outputs": [],
   "source": [
    "features_valid = df_valid.drop(['is_ultra'], axis=1)"
   ]
  },
  {
   "cell_type": "code",
   "execution_count": 12,
   "metadata": {},
   "outputs": [],
   "source": [
    "target_valid = df_valid['is_ultra']"
   ]
  },
  {
   "cell_type": "code",
   "execution_count": 13,
   "metadata": {},
   "outputs": [],
   "source": [
    "features_test = df_test.drop(['is_ultra'], axis=1)"
   ]
  },
  {
   "cell_type": "code",
   "execution_count": 14,
   "metadata": {},
   "outputs": [],
   "source": [
    "target_test = df_test['is_ultra']"
   ]
  },
  {
   "cell_type": "code",
   "execution_count": 15,
   "metadata": {},
   "outputs": [
    {
     "name": "stdout",
     "output_type": "stream",
     "text": [
      "(1928, 4)\n",
      "(1928,)\n",
      "(643, 4)\n",
      "(643,)\n",
      "(643, 4)\n",
      "(643,)\n"
     ]
    }
   ],
   "source": [
    "print(features_train.shape)\n",
    "print(target_train.shape)\n",
    "print(features_valid.shape)\n",
    "print(target_valid.shape)\n",
    "print(features_test.shape)\n",
    "print(target_test.shape)"
   ]
  },
  {
   "cell_type": "markdown",
   "metadata": {},
   "source": [
    "<div class=\"alert alert-success\">\n",
    "<b>Reviewer's comment</b>\n",
    "\n",
    "The data split is reasonable\n",
    "\n",
    "</div>"
   ]
  },
  {
   "cell_type": "code",
   "execution_count": 16,
   "metadata": {
    "scrolled": true
   },
   "outputs": [
    {
     "name": "stdout",
     "output_type": "stream",
     "text": [
      "max_depth = 1 : 74.80559875583204\n",
      "max_depth = 2 : 78.38258164852256\n",
      "max_depth = 3 : 78.69362363919129\n",
      "max_depth = 4 : 78.69362363919129\n",
      "max_depth = 5 : 78.84914463452566\n",
      "max_depth = 6 : 77.91601866251943\n",
      "max_depth = 7 : 78.84914463452566\n",
      "max_depth = 8 : 78.0715396578538\n",
      "max_depth = 9 : 77.76049766718506\n",
      "max_depth = 10 : 77.13841368584758\n"
     ]
    }
   ],
   "source": [
    "for depth in range(1, 11): # choose hyperparameter range 10\n",
    "    model = DecisionTreeClassifier(random_state=12345, max_depth=depth) # set max_depth=depth\n",
    "    model.fit(features_train, target_train) # train model on training set\n",
    "    predictions_valid = model.predict(features_valid) #predict based off validation set\n",
    "    print('max_depth =', depth, ': ', end='')\n",
    "    print(accuracy_score(target_valid, predictions_valid)*100)"
   ]
  },
  {
   "cell_type": "markdown",
   "metadata": {},
   "source": [
    "When using the DecisionTreeClassifier model the best depth out of 10 is 5 & 7 which have an accuracy score of 78.85%."
   ]
  },
  {
   "cell_type": "code",
   "execution_count": 17,
   "metadata": {
    "scrolled": true
   },
   "outputs": [
    {
     "name": "stdout",
     "output_type": "stream",
     "text": [
      "max_depth = 1 : 74.80559875583204\n",
      "max_depth = 2 : 78.38258164852256\n",
      "max_depth = 3 : 78.69362363919129\n",
      "max_depth = 4 : 78.69362363919129\n",
      "max_depth = 5 : 78.84914463452566\n",
      "max_depth = 6 : 77.91601866251943\n",
      "max_depth = 7 : 78.84914463452566\n",
      "max_depth = 8 : 78.0715396578538\n",
      "max_depth = 9 : 77.76049766718506\n",
      "max_depth = 10 : 77.13841368584758\n",
      "max_depth = 11 : 76.51632970451011\n",
      "max_depth = 12 : 76.67185069984448\n",
      "max_depth = 13 : 74.96111975116641\n",
      "max_depth = 14 : 75.42768273716952\n",
      "max_depth = 15 : 74.18351477449455\n",
      "max_depth = 16 : 74.33903576982893\n",
      "max_depth = 17 : 74.4945567651633\n",
      "max_depth = 18 : 74.33903576982893\n",
      "max_depth = 19 : 72.78382581648522\n",
      "max_depth = 20 : 74.18351477449455\n",
      "max_depth = 21 : 72.47278382581649\n",
      "max_depth = 22 : 72.31726283048211\n",
      "max_depth = 23 : 72.31726283048211\n",
      "max_depth = 24 : 73.25038880248833\n",
      "max_depth = 25 : 72.16174183514774\n",
      "max_depth = 26 : 72.62830482115086\n",
      "max_depth = 27 : 73.71695178849144\n",
      "max_depth = 28 : 73.09486780715396\n",
      "max_depth = 29 : 73.09486780715396\n",
      "max_depth = 30 : 73.09486780715396\n",
      "max_depth = 31 : 73.09486780715396\n",
      "max_depth = 32 : 73.09486780715396\n",
      "max_depth = 33 : 73.09486780715396\n",
      "max_depth = 34 : 73.09486780715396\n",
      "max_depth = 35 : 73.09486780715396\n",
      "max_depth = 36 : 73.09486780715396\n",
      "max_depth = 37 : 73.09486780715396\n",
      "max_depth = 38 : 73.09486780715396\n",
      "max_depth = 39 : 73.09486780715396\n",
      "max_depth = 40 : 73.09486780715396\n",
      "max_depth = 41 : 73.09486780715396\n",
      "max_depth = 42 : 73.09486780715396\n",
      "max_depth = 43 : 73.09486780715396\n",
      "max_depth = 44 : 73.09486780715396\n",
      "max_depth = 45 : 73.09486780715396\n",
      "max_depth = 46 : 73.09486780715396\n",
      "max_depth = 47 : 73.09486780715396\n",
      "max_depth = 48 : 73.09486780715396\n",
      "max_depth = 49 : 73.09486780715396\n",
      "max_depth = 50 : 73.09486780715396\n"
     ]
    }
   ],
   "source": [
    "for depth in range(1, 51): # choose hyperparameter range 50\n",
    "    model = DecisionTreeClassifier(random_state=12345, max_depth=depth) # set max_depth=depth\n",
    "    model.fit(features_train, target_train) # train model on training set\n",
    "    predictions_valid = model.predict(features_valid) #predict based off validation set\n",
    "    print('max_depth =', depth, ': ', end='')\n",
    "    print(accuracy_score(target_valid, predictions_valid)*100)"
   ]
  },
  {
   "cell_type": "markdown",
   "metadata": {},
   "source": [
    "When using the DecisionTreeClassifier model the best depth out of 50 is 5 & 7 which have an accuracy score of 78.85%. One thing to note is that starting at depth 28 and onward the accuracy score is the same."
   ]
  },
  {
   "cell_type": "code",
   "execution_count": 18,
   "metadata": {},
   "outputs": [
    {
     "name": "stdout",
     "output_type": "stream",
     "text": [
      "Accuracy of the best model on the test set (n_estimators = 10): 78.69362363919129\n"
     ]
    },
    {
     "data": {
      "text/plain": [
       "RandomForestClassifier(n_estimators=10, random_state=12345)"
      ]
     },
     "execution_count": 18,
     "metadata": {},
     "output_type": "execute_result"
    }
   ],
   "source": [
    "best_score = 0\n",
    "best_est = 0\n",
    "for est in range(1, 11): # choose hyperparameter range\n",
    "    model = RandomForestClassifier(random_state=12345, n_estimators=est) # set number of trees\n",
    "    model.fit(features_train, target_train) # train model on training set\n",
    "    score = model.score(features_valid, target_valid) # calculate accuracy score on validation set\n",
    "    if score > best_score:\n",
    "        best_score = score # save best accuracy score on validation set\n",
    "        best_est = est # save number of estimators corresponding to best accuracy score\n",
    "\n",
    "print(\"Accuracy of the best model on the test set (n_estimators = {}): {}\".format(best_est, best_score*100))\n",
    "\n",
    "final_model = RandomForestClassifier(random_state=12345, n_estimators=10) # change n_estimators to get best model\n",
    "final_model.fit(features_train, target_train)"
   ]
  },
  {
   "cell_type": "markdown",
   "metadata": {},
   "source": [
    "When using the RandomForestClassifier with 10 estimators the best one is 10 at 78.69%."
   ]
  },
  {
   "cell_type": "code",
   "execution_count": 19,
   "metadata": {},
   "outputs": [
    {
     "name": "stdout",
     "output_type": "stream",
     "text": [
      "Accuracy of the best model on the test set (n_estimators = 13): 79.16018662519441\n"
     ]
    },
    {
     "data": {
      "text/plain": [
       "RandomForestClassifier(n_estimators=50, random_state=12345)"
      ]
     },
     "execution_count": 19,
     "metadata": {},
     "output_type": "execute_result"
    }
   ],
   "source": [
    "best_score = 0\n",
    "best_est = 0\n",
    "for est in range(1, 51): # choose hyperparameter range\n",
    "    model = RandomForestClassifier(random_state=12345, n_estimators=est) # set number of trees\n",
    "    model.fit(features_train, target_train) # train model on training set\n",
    "    score = model.score(features_valid, target_valid) # calculate accuracy score on validation set\n",
    "    if score > best_score:\n",
    "        best_score = score # save best accuracy score on test set\n",
    "        best_est = est # save number of estimators corresponding to best accuracy score\n",
    "\n",
    "print(\"Accuracy of the best model on the test set (n_estimators = {}): {}\".format(best_est, best_score*100))\n",
    "\n",
    "final_model = RandomForestClassifier(random_state=12345, n_estimators=50) # change n_estimators to get best model\n",
    "final_model.fit(features_train, target_train)"
   ]
  },
  {
   "cell_type": "markdown",
   "metadata": {},
   "source": [
    "When using the RandomForestClassifier with 50 estimators the best one is 44 at 79.16%."
   ]
  },
  {
   "cell_type": "code",
   "execution_count": 20,
   "metadata": {},
   "outputs": [
    {
     "name": "stdout",
     "output_type": "stream",
     "text": [
      "Accuracy of the logistic regression model on the training set: 74.22199170124482\n",
      "Accuracy of the logistic regression model on the test set: 75.11664074650078\n"
     ]
    }
   ],
   "source": [
    "model = LogisticRegression(random_state=12345, solver='liblinear') # initialize logistic regression constructor with parameters random_state=12345 and solver='liblinear'\n",
    "model.fit(features_train, target_train)  # train model on training set\n",
    "score_train = model.score(features_train, target_train)*100 # calculate accuracy score on training set \n",
    "score_valid = model.score(features_valid, target_valid)*100 # calculate accuracy score on test set  \n",
    "\n",
    "print(\"Accuracy of the logistic regression model on the training set:\", score_train,)\n",
    "print(\"Accuracy of the logistic regression model on the test set:\", score_valid,)"
   ]
  },
  {
   "cell_type": "markdown",
   "metadata": {},
   "source": [
    "<div class=\"alert alert-danger\">\n",
    "<s><b>Reviewer's comment</b>\n",
    "\n",
    "Great, you tried a couple of different models and did some hyperparameter tuning. One small problem: after you're done with model selection, you need to evaluate the final model on the holdout set (not used for training/hyperparameter tuning/model selection) to get an unbiased estimate of its generalization performance. That was the point of splitting the data into three parts, and not two :)\n",
    "    \n",
    "Usually the validation set would be used for hyperparameter tuning/model selection, and the test set for final model evaluation, but the names don't really matter\n",
    "\n",
    "</div>"
   ]
  },
  {
   "cell_type": "markdown",
   "metadata": {},
   "source": [
    "<div class=\"alert alert-info\">\n",
    "    Just so I understand properly. I am to train/tune the model with the training and validation sets, then I am to run the module with test set separately? Just want to clarify. "
   ]
  },
  {
   "cell_type": "markdown",
   "metadata": {},
   "source": [
    "<div class=\"alert alert-danger\">\n",
    "<s><b>Reviewer's comment V2</b>\n",
    "\n",
    "Yep, so e.g. after we're done comparing different models, we find out that the best model is random forest with n_estimators = 44, then we just fit it using the train set and calculate accuracy score on the test set.\n",
    "    \n",
    "By the way, as the validation set is not needed after we're done with hyperparameter tuning/model selection, we can refit the final model using the combined train+validation data\n",
    "\n",
    "</div>"
   ]
  },
  {
   "cell_type": "markdown",
   "metadata": {},
   "source": [
    "<div class=\"alert alert-info\">\n",
    "    So would that just be the original df set beore I used the train_test_split or do I need to go back and rename the first df_train to something else so it retains the 80%? Because right now df_train is at 60% and if I add df_train and df_valid I would get 80%.\n",
    "    Below I have it set up to use the 60% df_train, is this what you're looking for?"
   ]
  },
  {
   "cell_type": "markdown",
   "metadata": {},
   "source": [
    "<div class=\"alert alert-success\">\n",
    "<b>Reviewer's comment V3</b>\n",
    "\n",
    "Yeah, sure, this is fine!\n",
    "    \n",
    "> So would that just be the original df set beore I used the train_test_split or do I need to go back and rename the first df_train to something else so it retains the 80%?\n",
    "    \n",
    "Yep, you could rename the `df_train` in the first split into something like `df_train_valid` or leave the splitting as is and concatenate them afterwards:\n",
    "    \n",
    "```python\n",
    "df_train_valid = pd.concat([df_train, df_valid])\n",
    "```\n",
    "\n",
    "</div>"
   ]
  },
  {
   "cell_type": "code",
   "execution_count": 21,
   "metadata": {
    "scrolled": true
   },
   "outputs": [
    {
     "name": "stdout",
     "output_type": "stream",
     "text": [
      "79.47122861586314\n"
     ]
    }
   ],
   "source": [
    "model = RandomForestClassifier(random_state=12345, n_estimators=44)\n",
    "model.fit(features_train, target_train)\n",
    "score = model.score(features_test, target_test)\n",
    "print(score*100)"
   ]
  },
  {
   "cell_type": "markdown",
   "metadata": {},
   "source": [
    "Using the LogisticRegression Model the accuracy of the test comes out to 72.94%. So this model will not work."
   ]
  },
  {
   "cell_type": "markdown",
   "metadata": {},
   "source": [
    "The best model is the RandomForestClassifier as it gives us the highest accuracy out of 50 estimators is 44 at 79.16% and out of 10 is 5 & 7 estimators at 78.85%. - when using the validation set.\n",
    "\n",
    "When using the test set, for the best model and estimators the accuracy is at 79.47%.\n",
    "\n",
    "One thing we have to keep in mind is that DecisionTree has lower accuracy because it can become overfitted or underfitted depending on the amount of tree depth. Random Forset will always have the highest accuracy because it uses an ensemble of trees instead of just one. The logistic regression model, is straightforward so there will be no overfitting.\n",
    "\n",
    "However, Logisitic regression is the fastest one because it has the least number of model parameters. The speed of decision tree is also high and it depends on the depth of the tree. A random forest is the slowest: the more trees there are, the slower this model works."
   ]
  },
  {
   "cell_type": "markdown",
   "metadata": {},
   "source": [
    "<div class=\"alert alert-success\">\n",
    "<b>Reviewer's comment</b>\n",
    "\n",
    "Great!\n",
    "\n",
    "</div>"
   ]
  }
 ],
 "metadata": {
  "kernelspec": {
   "display_name": "Python 3 (ipykernel)",
   "language": "python",
   "name": "python3"
  },
  "language_info": {
   "codemirror_mode": {
    "name": "ipython",
    "version": 3
   },
   "file_extension": ".py",
   "mimetype": "text/x-python",
   "name": "python",
   "nbconvert_exporter": "python",
   "pygments_lexer": "ipython3",
   "version": "3.9.5"
  },
  "toc": {
   "base_numbering": 1,
   "nav_menu": {},
   "number_sections": true,
   "sideBar": true,
   "skip_h1_title": true,
   "title_cell": "Table of Contents",
   "title_sidebar": "Contents",
   "toc_cell": false,
   "toc_position": {},
   "toc_section_display": true,
   "toc_window_display": false
  }
 },
 "nbformat": 4,
 "nbformat_minor": 2
}
